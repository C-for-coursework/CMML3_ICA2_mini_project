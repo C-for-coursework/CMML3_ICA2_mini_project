{
 "cells": [
  {
   "cell_type": "markdown",
   "id": "734aa94a-550f-41cd-8589-08b60686d9dd",
   "metadata": {},
   "source": [
    "# Graph construction"
   ]
  },
  {
   "cell_type": "code",
   "execution_count": 1,
   "id": "924e7fa2-e82e-4c94-abc0-9c74c5114cf6",
   "metadata": {},
   "outputs": [],
   "source": [
    "import warnings\n",
    "warnings.filterwarnings(\"ignore\", category=DeprecationWarning, module=\"ignite.handlers.checkpoint\")"
   ]
  },
  {
   "cell_type": "code",
   "execution_count": 2,
   "id": "2f2c95df-d063-4054-ae25-1ad2f15c403c",
   "metadata": {},
   "outputs": [
    {
     "name": "stderr",
     "output_type": "stream",
     "text": [
      "/root/miniconda3/envs/myconda/lib/python3.10/site-packages/ignite/handlers/checkpoint.py:16: DeprecationWarning: `TorchScript` support for functional optimizers is deprecated and will be removed in a future PyTorch release. Consider using the `torch.compile` optimizer instead.\n",
      "  from torch.distributed.optim import ZeroRedundancyOptimizer\n"
     ]
    }
   ],
   "source": [
    "from itertools import chain\n",
    "\n",
    "import anndata as ad\n",
    "import itertools\n",
    "import networkx as nx\n",
    "import pandas as pd\n",
    "import scanpy as sc\n",
    "import scglue\n",
    "import seaborn as sns\n",
    "from matplotlib import rcParams"
   ]
  },
  {
   "cell_type": "code",
   "execution_count": 3,
   "id": "805c6fa3-2f7f-4ba9-a490-0f62e8c1806e",
   "metadata": {},
   "outputs": [],
   "source": [
    "# set up presentation interface\n",
    "scglue.plot.set_publication_params()\n",
    "rcParams[\"figure.figsize\"] = (4, 4)"
   ]
  },
  {
   "cell_type": "code",
   "execution_count": 4,
   "id": "d2e5ee7d-1bce-4f0d-862a-f77d8ffce42c",
   "metadata": {},
   "outputs": [],
   "source": [
    "# IMPORTANT if Bedtools cannot be found automatically\n",
    "scglue.config.BEDTOOLS_PATH = '/usr/local/bin'"
   ]
  },
  {
   "cell_type": "code",
   "execution_count": 5,
   "id": "b15fddf3-9d63-45ef-8cf8-bb1021477101",
   "metadata": {},
   "outputs": [],
   "source": [
    "rna = ad.read_h5ad(\"../data/GSE126074/GSE126074-RNA_pp.h5ad\")\n",
    "atac = ad.read_h5ad(\"../data/GSE126074/GSE126074-ATAC_pp.h5ad\")"
   ]
  },
  {
   "cell_type": "code",
   "execution_count": 6,
   "id": "d1da5ee4-b1ee-47fb-a15d-d52a1ff10855",
   "metadata": {
    "tags": []
   },
   "outputs": [
    {
     "data": {
      "text/plain": [
       "AnnData object with n_obs × n_vars = 9190 × 28930\n",
       "    obs: 'domain', 'protocol', 'dataset', 'cell_type'\n",
       "    var: 'chrom', 'chromStart', 'chromEnd', 'name', 'score', 'strand', 'thickStart', 'thickEnd', 'itemRgb', 'blockCount', 'blockSizes', 'blockStarts', 'gene_id', 'gene_type', 'mgi_id', 'havana_gene', 'tag', 'genome', 'n_counts', 'highly_variable', 'highly_variable_rank', 'means', 'variances', 'variances_norm', 'mean', 'std'\n",
       "    uns: 'cell_type_colors', 'hvg', 'log1p', 'neighbors', 'pca', 'umap'\n",
       "    obsm: 'X_pca', 'X_umap'\n",
       "    varm: 'PCs'\n",
       "    layers: 'counts'\n",
       "    obsp: 'connectivities', 'distances'"
      ]
     },
     "execution_count": 6,
     "metadata": {},
     "output_type": "execute_result"
    }
   ],
   "source": [
    "rna"
   ]
  },
  {
   "cell_type": "code",
   "execution_count": 7,
   "id": "87254538-ef39-4bfc-8efe-79a5791822e6",
   "metadata": {},
   "outputs": [
    {
     "data": {
      "text/plain": [
       "AnnData object with n_obs × n_vars = 9190 × 241757\n",
       "    obs: 'domain', 'protocol', 'dataset', 'cell_type'\n",
       "    var: 'chrom', 'chromStart', 'chromEnd', 'genome', 'n_counts'\n",
       "    uns: 'cell_type_colors', 'neighbors', 'umap'\n",
       "    obsm: 'X_lsi', 'X_umap'\n",
       "    obsp: 'connectivities', 'distances'"
      ]
     },
     "execution_count": 7,
     "metadata": {},
     "output_type": "execute_result"
    }
   ],
   "source": [
    "atac"
   ]
  },
  {
   "cell_type": "markdown",
   "id": "40502ad6-7518-41d1-85fa-5e5d41e926d2",
   "metadata": {},
   "source": [
    "## Construct prior regulatory graph"
   ]
  },
  {
   "cell_type": "code",
   "execution_count": 8,
   "id": "a87b870e-93ee-426f-9cd3-62d17be031a6",
   "metadata": {},
   "outputs": [
    {
     "data": {
      "application/vnd.jupyter.widget-view+json": {
       "model_id": "7fb3d7dc0ee943e4b5f660c54c34092a",
       "version_major": 2,
       "version_minor": 0
      },
      "text/plain": [
       "window_graph:   0%|          | 0/28930 [00:00<?, ?it/s]"
      ]
     },
     "metadata": {},
     "output_type": "display_data"
    },
    {
     "data": {
      "text/plain": [
       "<networkx.classes.multidigraph.MultiDiGraph at 0x7fde187a2470>"
      ]
     },
     "execution_count": 8,
     "metadata": {},
     "output_type": "execute_result"
    }
   ],
   "source": [
    "# Graph construction\n",
    "guidance = scglue.genomics.rna_anchored_guidance_graph(rna, atac)\n",
    "guidance"
   ]
  },
  {
   "cell_type": "code",
   "execution_count": 9,
   "id": "2304fa32-75a2-42ea-a234-68f55c436841",
   "metadata": {},
   "outputs": [
    {
     "name": "stdout",
     "output_type": "stream",
     "text": [
      "[INFO] check_graph: Checking variable coverage...\n",
      "[INFO] check_graph: Checking edge attributes...\n",
      "[INFO] check_graph: Checking self-loops...\n",
      "[INFO] check_graph: Checking graph symmetry...\n",
      "[INFO] check_graph: All checks passed!\n"
     ]
    }
   ],
   "source": [
    "scglue.graph.check_graph(guidance, [rna, atac])"
   ]
  },
  {
   "cell_type": "code",
   "execution_count": 10,
   "id": "1c78e461-837f-409a-b6f9-4a7c27692ae4",
   "metadata": {},
   "outputs": [
    {
     "data": {
      "text/html": [
       "<div>\n",
       "<style scoped>\n",
       "    .dataframe tbody tr th:only-of-type {\n",
       "        vertical-align: middle;\n",
       "    }\n",
       "\n",
       "    .dataframe tbody tr th {\n",
       "        vertical-align: top;\n",
       "    }\n",
       "\n",
       "    .dataframe thead th {\n",
       "        text-align: right;\n",
       "    }\n",
       "</style>\n",
       "<table border=\"1\" class=\"dataframe\">\n",
       "  <thead>\n",
       "    <tr style=\"text-align: right;\">\n",
       "      <th></th>\n",
       "      <th>chrom</th>\n",
       "      <th>chromStart</th>\n",
       "      <th>chromEnd</th>\n",
       "      <th>genome</th>\n",
       "      <th>n_counts</th>\n",
       "      <th>highly_variable</th>\n",
       "    </tr>\n",
       "    <tr>\n",
       "      <th>peaks</th>\n",
       "      <th></th>\n",
       "      <th></th>\n",
       "      <th></th>\n",
       "      <th></th>\n",
       "      <th></th>\n",
       "      <th></th>\n",
       "    </tr>\n",
       "  </thead>\n",
       "  <tbody>\n",
       "    <tr>\n",
       "      <th>chr1:3005833-3005982</th>\n",
       "      <td>chr1</td>\n",
       "      <td>3005833</td>\n",
       "      <td>3005982</td>\n",
       "      <td>mm10</td>\n",
       "      <td>2</td>\n",
       "      <td>False</td>\n",
       "    </tr>\n",
       "    <tr>\n",
       "      <th>chr1:3094772-3095489</th>\n",
       "      <td>chr1</td>\n",
       "      <td>3094772</td>\n",
       "      <td>3095489</td>\n",
       "      <td>mm10</td>\n",
       "      <td>123</td>\n",
       "      <td>False</td>\n",
       "    </tr>\n",
       "    <tr>\n",
       "      <th>chr1:3119556-3120739</th>\n",
       "      <td>chr1</td>\n",
       "      <td>3119556</td>\n",
       "      <td>3120739</td>\n",
       "      <td>mm10</td>\n",
       "      <td>424</td>\n",
       "      <td>False</td>\n",
       "    </tr>\n",
       "    <tr>\n",
       "      <th>chr1:3121334-3121696</th>\n",
       "      <td>chr1</td>\n",
       "      <td>3121334</td>\n",
       "      <td>3121696</td>\n",
       "      <td>mm10</td>\n",
       "      <td>107</td>\n",
       "      <td>False</td>\n",
       "    </tr>\n",
       "    <tr>\n",
       "      <th>chr1:3134637-3135032</th>\n",
       "      <td>chr1</td>\n",
       "      <td>3134637</td>\n",
       "      <td>3135032</td>\n",
       "      <td>mm10</td>\n",
       "      <td>7</td>\n",
       "      <td>False</td>\n",
       "    </tr>\n",
       "  </tbody>\n",
       "</table>\n",
       "</div>"
      ],
      "text/plain": [
       "                     chrom  chromStart  chromEnd genome  n_counts  \\\n",
       "peaks                                                               \n",
       "chr1:3005833-3005982  chr1     3005833   3005982   mm10         2   \n",
       "chr1:3094772-3095489  chr1     3094772   3095489   mm10       123   \n",
       "chr1:3119556-3120739  chr1     3119556   3120739   mm10       424   \n",
       "chr1:3121334-3121696  chr1     3121334   3121696   mm10       107   \n",
       "chr1:3134637-3135032  chr1     3134637   3135032   mm10         7   \n",
       "\n",
       "                      highly_variable  \n",
       "peaks                                  \n",
       "chr1:3005833-3005982            False  \n",
       "chr1:3094772-3095489            False  \n",
       "chr1:3119556-3120739            False  \n",
       "chr1:3121334-3121696            False  \n",
       "chr1:3134637-3135032            False  "
      ]
     },
     "execution_count": 10,
     "metadata": {},
     "output_type": "execute_result"
    }
   ],
   "source": [
    "atac.var.head()"
   ]
  },
  {
   "cell_type": "code",
   "execution_count": 11,
   "id": "8ac26460-a1f4-4659-a304-4a8b4d2e07a3",
   "metadata": {},
   "outputs": [],
   "source": [
    "nx.write_graphml(guidance, \"../result/GSE126074/GLUE_model/guidance.graphml.gz\")"
   ]
  },
  {
   "cell_type": "code",
   "execution_count": null,
   "id": "9a777e53-3f97-4bc1-9286-a4bf4d5daf9a",
   "metadata": {
    "tags": []
   },
   "outputs": [],
   "source": [
    "rna.write(\"../data/GSE126074/GSE126074-RNA_prior.h5ad\", compression=\"gzip\")\n",
    "atac.write(\"../data/GSE126074/GSE126074-ATAC_prior.h5ad\", compression=\"gzip\")"
   ]
  },
  {
   "cell_type": "code",
   "execution_count": null,
   "id": "94adcca2-6eb7-4208-9402-0e55675a3ab0",
   "metadata": {},
   "outputs": [],
   "source": []
  }
 ],
 "metadata": {
  "kernelspec": {
   "display_name": "myconda",
   "language": "python",
   "name": "myconda"
  },
  "language_info": {
   "codemirror_mode": {
    "name": "ipython",
    "version": 3
   },
   "file_extension": ".py",
   "mimetype": "text/x-python",
   "name": "python",
   "nbconvert_exporter": "python",
   "pygments_lexer": "ipython3",
   "version": "3.10.13"
  }
 },
 "nbformat": 4,
 "nbformat_minor": 5
}
