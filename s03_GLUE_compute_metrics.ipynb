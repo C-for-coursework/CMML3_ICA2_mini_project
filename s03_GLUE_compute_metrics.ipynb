{
 "cells": [
  {
   "cell_type": "code",
   "execution_count": 1,
   "id": "cc28d0c7-15ba-4fe8-80b3-6874cc6793b3",
   "metadata": {
    "tags": []
   },
   "outputs": [
    {
     "name": "stderr",
     "output_type": "stream",
     "text": [
      "/root/miniconda3/envs/metric-full/lib/python3.11/site-packages/umap/__init__.py:9: ImportWarning: Tensorflow not installed; ParametricUMAP will be unavailable\n",
      "  warn(\n",
      "WARNING:root:In order to use the mouse gastrulation seqFISH datsets, please install squidpy (see https://github.com/scverse/squidpy).\n",
      "/root/miniconda3/envs/metric-full/lib/python3.11/site-packages/docrep/decorators.py:43: SyntaxWarning: 'param_categorical_covariate_keys' is not a valid key!\n",
      "  doc = func(self, args[0].__doc__, *args[1:], **kwargs)\n",
      "WARNING:root:In order to use sagenet models, please install pytorch geometric (see https://pytorch-geometric.readthedocs.io) and \n",
      " captum (see https://github.com/pytorch/captum).\n",
      "WARNING:root:mvTCR is not installed. To use mvTCR models, please install it first using \"pip install mvtcr\"\n",
      "WARNING:root:multigrate is not installed. To use multigrate models, please install it first using \"pip install multigrate\".\n",
      "/root/miniconda3/envs/metric-full/lib/python3.11/site-packages/scanpy/_settings.py:488: DeprecationWarning: `set_matplotlib_formats` is deprecated since IPython 7.23, directly use `matplotlib_inline.backend_inline.set_matplotlib_formats()`\n",
      "  IPython.display.set_matplotlib_formats(*ipython_format)\n"
     ]
    }
   ],
   "source": [
    "import scib\n",
    "import anndata as ad\n",
    "import pandas as pd\n",
    "import numpy as np\n",
    "import os\n",
    "from multiprocessing import Pool \n",
    "from scipy.io import mmread\n",
    "from scipy.sparse import csr_matrix\n",
    "import muon\n",
    "import scarches as sca\n",
    "import scanpy as sc\n",
    "from scib_metrics.benchmark import Benchmarker\n",
    "import scib_metrics\n",
    "from typing import Optional\n",
    "\n",
    "import warnings\n",
    "warnings.filterwarnings(\"ignore\")"
   ]
  },
  {
   "cell_type": "code",
   "execution_count": 2,
   "id": "a0737287-1c70-4370-a689-f957e789a1d9",
   "metadata": {
    "tags": []
   },
   "outputs": [],
   "source": [
    "rna = ad.read_h5ad('../data/GSE126074/GSE126074-RNA_pp.h5ad')\n",
    "rna.layers[\"counts\"] = rna.X.copy()\n",
    "# rna"
   ]
  },
  {
   "cell_type": "code",
   "execution_count": 3,
   "id": "8c572455-3a7c-4db9-aa67-c8882687cc96",
   "metadata": {
    "tags": []
   },
   "outputs": [],
   "source": [
    "atac = ad.read_h5ad('../data/GSE126074/GSE126074-ATAC_pp.h5ad')\n",
    "# atac 9190 × 241757"
   ]
  },
  {
   "cell_type": "code",
   "execution_count": 4,
   "id": "62badab4-0c19-465f-8369-d9f21a9a9707",
   "metadata": {
    "tags": []
   },
   "outputs": [],
   "source": [
    "atac.layers['counts'] = atac.X.copy()\n",
    "sc.pp.normalize_total(atac, target_sum=1e4)\n",
    "sc.pp.log1p(atac)\n",
    "atac.layers['log-norm'] = atac.X.copy()\n",
    "sc.pp.highly_variable_genes(atac, n_top_genes=30000)\n",
    "atac = atac[:, atac.var.highly_variable].copy()"
   ]
  },
  {
   "cell_type": "code",
   "execution_count": 5,
   "id": "7205c77c-f4e9-4d27-b805-7b6184c86870",
   "metadata": {
    "tags": []
   },
   "outputs": [],
   "source": [
    "rna.obs_names = rna.obs_names.str.replace(r\"_RNA$\", \"\", regex=True)\n",
    "atac.obs_names = atac.obs_names.str.replace(r\"_ATAC$\", \"\", regex=True)\n",
    "\n",
    "adata = ad.concat([rna, atac], axis=1)\n",
    "# adata\n",
    "# AnnData object with n_obs × n_vars = 9190 × 270687\n",
    "#     obs: 'cell_type', 'protocol', 'dataset', 'cluster', 'batch'\n",
    "#     var: 'highly_variable', 'chrom', 'chromStart', 'chromEnd', 'modality', 'genome'\n",
    "#     uns: 'neighbors', 'umap', 'cluster'\n",
    "#     obsm: 'MultiVI', 'X_umap'\n",
    "#     obsp: 'distances', 'connectivities'"
   ]
  },
  {
   "cell_type": "code",
   "execution_count": 6,
   "id": "b935fc11-66d3-4503-bb73-17db1a5e4512",
   "metadata": {
    "tags": []
   },
   "outputs": [],
   "source": [
    "adata.obs['cell_type'] = rna.obs['cell_type'].astype('category')\n",
    "adata.obs[\"protocol\"] = \"SNARE-seq\"\n",
    "adata.obs[\"dataset\"] = \"GSE126074-integrated\"\n",
    "adata.var[\"chrom\"] = atac.var[\"chrom\"]\n",
    "adata.var[\"chromStart\"] = atac.var[\"chromStart\"] \n",
    "adata.var[\"chromEnd\"] = atac.var[\"chromEnd\"]\n",
    "adata.var[\"genome\"] = \"mm10\"\n",
    "batch = [name.split('_', 1)[0] for name in rna.obs_names]\n",
    "adata.obs['batch'] = batch"
   ]
  },
  {
   "cell_type": "code",
   "execution_count": 8,
   "id": "c8bc0f35-5be0-412d-bd7e-7319c94e033c",
   "metadata": {
    "tags": []
   },
   "outputs": [
    {
     "name": "stdout",
     "output_type": "stream",
     "text": [
      "WARNING: cluster key cluster already exists in adata.obs and will be overwritten because force=True \n",
      "resolution: 0.1, nmi: 0.0032891051703809824\n",
      "resolution: 0.2, nmi: 0.0032892660483615508\n",
      "resolution: 0.3, nmi: 0.0037077328412039798\n",
      "resolution: 0.4, nmi: 0.004586352875722574\n",
      "resolution: 0.5, nmi: 0.004548146662888701\n",
      "resolution: 0.6, nmi: 0.005031650871265338\n",
      "resolution: 0.7, nmi: 0.006735033430123866\n",
      "resolution: 0.8, nmi: 0.007018197512893286\n",
      "resolution: 0.9, nmi: 0.008222492010722761\n",
      "resolution: 1.0, nmi: 0.008915162914103058\n",
      "resolution: 1.1, nmi: 0.008185398396402595\n",
      "resolution: 1.2, nmi: 0.009157365471499684\n",
      "resolution: 1.3, nmi: 0.009901051256699284\n",
      "resolution: 1.4, nmi: 0.011649258956682756\n",
      "resolution: 1.5, nmi: 0.012096784407097348\n",
      "resolution: 1.6, nmi: 0.0112951348633272\n",
      "resolution: 1.7, nmi: 0.012026129886030775\n",
      "resolution: 1.8, nmi: 0.011887936100936244\n",
      "resolution: 1.9, nmi: 0.013514050740847623\n",
      "resolution: 2.0, nmi: 0.013805421946938012\n",
      "optimised clustering against cell_type\n",
      "optimal cluster resolution: 2.0\n",
      "optimal score: 0.013805421946938012\n",
      "WARNING: cluster key cluster already exists in adata.obs and will be overwritten because force=True \n",
      "resolution: 0.1, nmi: 0.17220760113038516\n",
      "resolution: 0.2, nmi: 0.2526885506436779\n",
      "resolution: 0.3, nmi: 0.270169171579867\n",
      "resolution: 0.4, nmi: 0.2823879578163339\n",
      "resolution: 0.5, nmi: 0.28283236163358055\n",
      "resolution: 0.6, nmi: 0.3008088251856829\n",
      "resolution: 0.7, nmi: 0.3037183470405987\n",
      "resolution: 0.8, nmi: 0.3070796459001491\n",
      "resolution: 0.9, nmi: 0.31834478653772774\n",
      "resolution: 1.0, nmi: 0.3197427765185853\n",
      "resolution: 1.1, nmi: 0.322325754298184\n",
      "resolution: 1.2, nmi: 0.328497186020766\n",
      "resolution: 1.3, nmi: 0.3306222738425249\n",
      "resolution: 1.4, nmi: 0.33000941315603893\n",
      "resolution: 1.5, nmi: 0.3359083097381945\n",
      "resolution: 1.6, nmi: 0.33569036534974617\n",
      "resolution: 1.7, nmi: 0.33857266763571464\n",
      "resolution: 1.8, nmi: 0.33821943401582\n",
      "resolution: 1.9, nmi: 0.3361433120089357\n",
      "resolution: 2.0, nmi: 0.33734253531267855\n",
      "optimised clustering against cell_type\n",
      "optimal cluster resolution: 1.7\n",
      "optimal score: 0.33857266763571464\n"
     ]
    }
   ],
   "source": [
    "method_list = ['MultiVI', 'GLUE']\n",
    "dataset = 'GSE126074'\n",
    "metrics_list = []\n",
    "for method in method_list:\n",
    "    latent = pd.read_csv('../result/'+ dataset + '/'+ method + '.csv', header = None)\n",
    "    latent.index = adata.obs.index\n",
    "    adata.obsm[method] = latent\n",
    "    sc.pp.neighbors(adata, use_rep=method)\n",
    "    sc.tl.umap(adata)\n",
    "    sc.tl.leiden(adata, key_added=\"cluster\")\n",
    "    scib.metrics.cluster_optimal_resolution(adata, cluster_key=\"cluster\", label_key=\"cell_type\")\n",
    "    ari = scib.metrics.ari(adata, cluster_key=\"cluster\", label_key=\"cell_type\")\n",
    "    iso_asw = scib.metrics.isolated_labels_asw(adata, label_key=\"cell_type\", batch_key='batch', embed=method,  verbose = False)\n",
    "    nmi = scib.metrics.nmi(adata, cluster_key=\"cluster\", label_key=\"cell_type\")\n",
    "    # clisi = scib.metrics.clisi_graph(adata, label_key=\"cell_type\",use_rep=method, type_='embed')\n",
    "    sht = scib.metrics.silhouette(adata, label_key=\"cell_type\", embed=method, metric='euclidean', scale=True)\n",
    "    metrics_list.append([ari, iso_asw, nmi, sht, method])  # , clisi"
   ]
  },
  {
   "cell_type": "code",
   "execution_count": 15,
   "id": "840dfe1c-ccfc-4bd8-a14d-79e44c023fe7",
   "metadata": {},
   "outputs": [
    {
     "data": {
      "text/plain": [
       "[[-0.00035099532743044343,\n",
       "  0.4646545301626249,\n",
       "  0.013805421946938016,\n",
       "  0.46228627967630437,\n",
       "  'MultiVI'],\n",
       " [0.14058447480197175,\n",
       "  0.42627553816395086,\n",
       "  0.33857266763571464,\n",
       "  0.4935455504014269,\n",
       "  'GLUE']]"
      ]
     },
     "execution_count": 15,
     "metadata": {},
     "output_type": "execute_result"
    }
   ],
   "source": [
    "metrics_list"
   ]
  },
  {
   "cell_type": "code",
   "execution_count": 19,
   "id": "177a7e60-de5b-4b9c-b757-c75471ba58d8",
   "metadata": {
    "tags": []
   },
   "outputs": [
    {
     "name": "stdout",
     "output_type": "stream",
     "text": [
      "WARNING: cluster key cluster already exists in adata.obs and will be overwritten because force=True \n",
      "resolution: 0.1, nmi: 0.0040183062637716566\n",
      "resolution: 0.2, nmi: 0.004597223487270575\n",
      "resolution: 0.3, nmi: 0.006057285597700506\n",
      "resolution: 0.4, nmi: 0.006798483616871951\n",
      "resolution: 0.5, nmi: 0.006914551351042559\n",
      "resolution: 0.6, nmi: 0.0079231476989636\n",
      "resolution: 0.7, nmi: 0.008977425218307444\n",
      "resolution: 0.8, nmi: 0.009180543386989471\n",
      "resolution: 0.9, nmi: 0.009180872094939129\n",
      "resolution: 1.0, nmi: 0.009712737994340822\n",
      "resolution: 1.1, nmi: 0.009864218536136863\n",
      "resolution: 1.2, nmi: 0.010054471600565083\n",
      "resolution: 1.3, nmi: 0.010507220972004823\n",
      "resolution: 1.4, nmi: 0.010131881133354365\n",
      "resolution: 1.5, nmi: 0.010652294660758213\n",
      "resolution: 1.6, nmi: 0.011598754127211884\n",
      "resolution: 1.7, nmi: 0.011475227749335248\n",
      "resolution: 1.8, nmi: 0.011516359818942931\n",
      "resolution: 1.9, nmi: 0.011909649636472343\n",
      "resolution: 2.0, nmi: 0.011965183395344229\n",
      "optimised clustering against cell_type\n",
      "optimal cluster resolution: 2.0\n",
      "optimal score: 0.011965183395344229\n"
     ]
    }
   ],
   "source": [
    "con = mmread('../result/'+ dataset + '/Seurat_connectivities.mtx')\n",
    "dis = mmread('../result/'+ dataset + '/Seurat_distance.mtx')\n",
    "adata.uns['neighbors'] = {'connectivities_key': 'connectivities', 'distances_key': 'distances', \n",
    "                          'params': {'n_neighbors': 20, 'method': 'umap', 'random_state': 0, \n",
    "                                     'metric': 'euclidean'}}\n",
    "adata.uns['neighbors']['distance'] = csr_matrix(dis)\n",
    "adata.uns['neighbors']['connectivities'] = csr_matrix(con)\n",
    "adata.obsp['distance'] = csr_matrix(dis)\n",
    "adata.obsp['connectivities'] = csr_matrix(con)\n",
    "sc.tl.umap(adata, n_components=20)\n",
    "scib.metrics.cluster_optimal_resolution(adata, cluster_key=\"cluster\", label_key=\"cell_type\")\n",
    "ari = scib.metrics.ari(adata, cluster_key=\"cluster\", label_key=\"cell_type\")\n",
    "iso_asw = scib.metrics.isolated_labels_asw(adata, label_key=\"cell_type\", batch_key='batch', embed=method,  verbose = False)\n",
    "nmi = scib.metrics.nmi(adata, cluster_key=\"cluster\", label_key=\"cell_type\")\n",
    "# clisi = scib.metrics.clisi_graph(adata, label_key=\"cell_type\",use_rep=method, type_='embed')\n",
    "sht = scib.metrics.silhouette(adata, label_key=\"cell_type\", embed=method, metric='euclidean', scale=True)\n",
    "metrics_list.append([ari, iso_asw, nmi, sht, 'Seurat'])  # , clisi"
   ]
  },
  {
   "cell_type": "code",
   "execution_count": 21,
   "id": "ce5915c9-05b2-42ff-ad31-2521ffe5d2bf",
   "metadata": {},
   "outputs": [],
   "source": [
    "# df = pd.DataFrame(metrics_list, columns = ['','method'])\n",
    "result = pd.DataFrame()\n",
    "df = pd.DataFrame(metrics_list, columns = ['ari', 'iso_asw','nmi','sht','method'])\n",
    "result = pd.concat([result, df], ignore_index=True)\n",
    "\n",
    "result.to_csv(\"../result/GSE126074/metrics_result.csv\", index=False)"
   ]
  }
 ],
 "metadata": {
  "kernelspec": {
   "display_name": "metric",
   "language": "python",
   "name": "metric-full"
  },
  "language_info": {
   "codemirror_mode": {
    "name": "ipython",
    "version": 3
   },
   "file_extension": ".py",
   "mimetype": "text/x-python",
   "name": "python",
   "nbconvert_exporter": "python",
   "pygments_lexer": "ipython3",
   "version": "3.11.12"
  }
 },
 "nbformat": 4,
 "nbformat_minor": 5
}
